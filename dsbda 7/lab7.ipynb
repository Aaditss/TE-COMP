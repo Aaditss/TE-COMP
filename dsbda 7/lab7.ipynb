{
  "cells": [
    {
      "cell_type": "markdown",
      "metadata": {
        "id": "-euf4yGhb-56"
      },
      "source": [
        "convert to lower case\n"
      ]
    },
    {
      "cell_type": "code",
      "execution_count": 26,
      "metadata": {
        "colab": {
          "base_uri": "https://localhost:8080/"
        },
        "id": "1iIuz8o0axhp",
        "outputId": "e8675633-ca63-4ee9-bc47-d19712b705f3"
      },
      "outputs": [
        {
          "name": "stdout",
          "output_type": "stream",
          "text": [
            "madrid! is playing great in the cl this season, tonikroos will win  the ballandor\n"
          ]
        }
      ],
      "source": [
        "text = 'Madrid! is playing great in the CL this season, ToniKroos will win  the Ballandor'\n",
        "text = text.lower()\n",
        "print(text)"
      ]
    },
    {
      "cell_type": "markdown",
      "metadata": {
        "id": "LlMws2u8cX0B"
      },
      "source": [
        "remove punctuation\n"
      ]
    },
    {
      "cell_type": "code",
      "execution_count": 27,
      "metadata": {
        "colab": {
          "base_uri": "https://localhost:8080/"
        },
        "id": "lSbRjmWXbeds",
        "outputId": "3254b712-9647-45ae-e825-2f5874bb2cee"
      },
      "outputs": [
        {
          "name": "stdout",
          "output_type": "stream",
          "text": [
            "madrid is playing great in the cl this season tonikroos will win  the ballandor\n"
          ]
        }
      ],
      "source": [
        "import string\n",
        "text_p = \"\".join([char for char in text if char not in string.punctuation])\n",
        "print(text_p)"
      ]
    },
    {
      "cell_type": "markdown",
      "metadata": {
        "id": "9eLUP3VVjX3J"
      },
      "source": [
        "nltk"
      ]
    },
    {
      "cell_type": "markdown",
      "metadata": {
        "id": "XrhjViBOkKUx"
      },
      "source": [
        "A corpus can be defined as a collection of text documents <br> Each corpus module defines one or more “corpus reader functions”, which can be used to read documents from that corpus"
      ]
    },
    {
      "cell_type": "code",
      "execution_count": 28,
      "metadata": {},
      "outputs": [
        {
          "name": "stdout",
          "output_type": "stream",
          "text": [
            "['madrid', 'is', 'playing', 'great', 'in', 'the', 'cl', 'this', 'season', 'tonikroos', 'will', 'win', 'the', 'ballandor']\n"
          ]
        }
      ],
      "source": [
        "import nltk\n",
        "#nltk.download('punkt')\n",
        "from nltk import word_tokenize\n",
        "words = word_tokenize(text_p)\n",
        "print(words)\n"
      ]
    },
    {
      "cell_type": "markdown",
      "metadata": {
        "id": "6OR4w16ckb3Z"
      },
      "source": [
        "punkt is one of the modules in nltk. Punkt is made to learn parameters from a corpus in an unsupervised way that is related to the target domain, such as a list of abbreviations, acronyms, etc"
      ]
    },
    {
      "cell_type": "markdown",
      "metadata": {
        "id": "sU4P9qTDkrqh"
      },
      "source": [
        "stop words are words we can ignore in a sentence"
      ]
    },
    {
      "cell_type": "code",
      "execution_count": 30,
      "metadata": {
        "colab": {
          "base_uri": "https://localhost:8080/"
        },
        "id": "YyoyZJaecl58",
        "outputId": "a5852f60-d997-4f66-8c93-d841ae804127"
      },
      "outputs": [
        {
          "name": "stdout",
          "output_type": "stream",
          "text": [
            "['i', 'me', 'my', 'myself', 'we', 'our', 'ours', 'ourselves', 'you', \"you're\", \"you've\", \"you'll\", \"you'd\", 'your', 'yours', 'yourself', 'yourselves', 'he', 'him', 'his', 'himself', 'she', \"she's\", 'her', 'hers', 'herself', 'it', \"it's\", 'its', 'itself', 'they', 'them', 'their', 'theirs', 'themselves', 'what', 'which', 'who', 'whom', 'this', 'that', \"that'll\", 'these', 'those', 'am', 'is', 'are', 'was', 'were', 'be', 'been', 'being', 'have', 'has', 'had', 'having', 'do', 'does', 'did', 'doing', 'a', 'an', 'the', 'and', 'but', 'if', 'or', 'because', 'as', 'until', 'while', 'of', 'at', 'by', 'for', 'with', 'about', 'against', 'between', 'into', 'through', 'during', 'before', 'after', 'above', 'below', 'to', 'from', 'up', 'down', 'in', 'out', 'on', 'off', 'over', 'under', 'again', 'further', 'then', 'once', 'here', 'there', 'when', 'where', 'why', 'how', 'all', 'any', 'both', 'each', 'few', 'more', 'most', 'other', 'some', 'such', 'no', 'nor', 'not', 'only', 'own', 'same', 'so', 'than', 'too', 'very', 's', 't', 'can', 'will', 'just', 'don', \"don't\", 'should', \"should've\", 'now', 'd', 'll', 'm', 'o', 're', 've', 'y', 'ain', 'aren', \"aren't\", 'couldn', \"couldn't\", 'didn', \"didn't\", 'doesn', \"doesn't\", 'hadn', \"hadn't\", 'hasn', \"hasn't\", 'haven', \"haven't\", 'isn', \"isn't\", 'ma', 'mightn', \"mightn't\", 'mustn', \"mustn't\", 'needn', \"needn't\", 'shan', \"shan't\", 'shouldn', \"shouldn't\", 'wasn', \"wasn't\", 'weren', \"weren't\", 'won', \"won't\", 'wouldn', \"wouldn't\"]\n",
            "['madrid', 'playing', 'great', 'cl', 'season', 'tonikroos', 'win', 'ballandor']\n"
          ]
        },
        {
          "name": "stderr",
          "output_type": "stream",
          "text": [
            "[nltk_data] Downloading package stopwords to\n",
            "[nltk_data]     C:\\Users\\91940\\AppData\\Roaming\\nltk_data...\n",
            "[nltk_data]   Package stopwords is already up-to-date!\n"
          ]
        }
      ],
      "source": [
        "from nltk.corpus import stopwords\n",
        "nltk.download('stopwords')\n",
        "stop_words = stopwords.words('english')\n",
        "print(stop_words)\n",
        "filtered_words = [word for word in words if word not in stop_words]\n",
        "print(filtered_words)"
      ]
    },
    {
      "cell_type": "markdown",
      "metadata": {
        "id": "e-g13z6klHIx"
      },
      "source": [
        "stemming is removal of prefix and suffix and keeping root word"
      ]
    },
    {
      "cell_type": "code",
      "execution_count": null,
      "metadata": {
        "colab": {
          "base_uri": "https://localhost:8080/"
        },
        "id": "cCoykM2DkyHa",
        "outputId": "34565a0c-2c18-485a-b507-acca71fa261a"
      },
      "outputs": [
        {
          "data": {
            "text/plain": [
              "['madrid', 'play', 'great', 'cl', 'season', 'tonikroo', 'win', 'ballandor']"
            ]
          },
          "execution_count": 22,
          "metadata": {},
          "output_type": "execute_result"
        }
      ],
      "source": [
        "#stemming\n",
        "from nltk.stem.porter import PorterStemmer\n",
        "porter = PorterStemmer()\n",
        "stemmed = [porter.stem(word) for word in filtered_words]\n",
        "stemmed"
      ]
    },
    {
      "cell_type": "markdown",
      "metadata": {
        "id": "cintEn77mlqy"
      },
      "source": [
        "Stemming is a process that stems or removes last few characters from a word, often leading to incorrect meanings and spelling.<br>\tLemmatization considers the context and converts the word to its meaningful base form, which is called Lemma.<br>\n",
        "For instance, stemming the word ‘Caring‘ would return ‘Car‘.\n",
        "<br>\n",
        "lemmatization will return care"
      ]
    },
    {
      "cell_type": "code",
      "execution_count": null,
      "metadata": {
        "colab": {
          "base_uri": "https://localhost:8080/"
        },
        "id": "l5Yz208jmxwc",
        "outputId": "f91b0650-6da0-46f0-cbe4-910c885c13b3"
      },
      "outputs": [
        {
          "name": "stdout",
          "output_type": "stream",
          "text": [
            "['madrid', 'playing', 'great', 'cl', 'season', 'tonikroos', 'win', 'ballandor']\n"
          ]
        }
      ],
      "source": [
        "#lemmatization\n",
        "from nltk.stem import WordNetLemmatizer\n",
        "#nltk.download('wordnet')\n",
        "lemmatizer = WordNetLemmatizer()\n",
        "text_l = [lemmatizer.lemmatize(word) for word in filtered_words]\n",
        "print(text_l)"
      ]
    },
    {
      "cell_type": "markdown",
      "metadata": {
        "id": "5GFPGMCYlm74"
      },
      "source": [
        "pos tagging is gramatical tagging"
      ]
    },
    {
      "cell_type": "code",
      "execution_count": null,
      "metadata": {
        "colab": {
          "base_uri": "https://localhost:8080/"
        },
        "id": "0rvB2kjdk5Cp",
        "outputId": "aef9bf04-ad37-4498-8abf-f536cec1136b"
      },
      "outputs": [
        {
          "name": "stdout",
          "output_type": "stream",
          "text": [
            "[('madrid', 'JJ'), ('playing', 'VBG'), ('great', 'JJ'), ('cl', 'NN'), ('season', 'NN'), ('tonikroos', 'NN'), ('win', 'VBP'), ('ballandor', 'NN')]\n"
          ]
        }
      ],
      "source": [
        "from nltk import pos_tag     #parts of speech\n",
        "pos = pos_tag(filtered_words)\n",
        "print(pos)"
      ]
    },
    {
      "cell_type": "markdown",
      "metadata": {
        "id": "8k4NMJy8r27r"
      },
      "source": [
        "TF-IDF"
      ]
    },
    {
      "cell_type": "code",
      "execution_count": null,
      "metadata": {
        "colab": {
          "base_uri": "https://localhost:8080/"
        },
        "id": "NGdv_qhCl2O1",
        "outputId": "f55540c7-b645-4301-a976-03add2c41c80"
      },
      "outputs": [
        {
          "name": "stdout",
          "output_type": "stream",
          "text": [
            "\n",
            "Word indexes:\n",
            "{'aditya': 0, 'kulkarni': 2, 'toni': 3, 'kroos': 1}\n",
            "\n",
            " tf-idf values\n",
            "  (0, 0)\t1.0\n",
            "  (1, 2)\t0.7959605415681652\n",
            "  (1, 0)\t0.6053485081062916\n",
            "  (2, 1)\t0.7071067811865476\n",
            "  (2, 3)\t0.7071067811865476\n"
          ]
        }
      ],
      "source": [
        "from sklearn.feature_extraction.text import TfidfVectorizer\n",
        "\n",
        "# documents\n",
        "d0 = 'aditya'\n",
        "d1 = 'aditya kulkarni'\n",
        "d2 = 'toni kroos'\n",
        "\n",
        "string = [d0, d1, d2]\n",
        "\n",
        "tfidf = TfidfVectorizer()\n",
        "\n",
        "result = tfidf.fit_transform(string)\n",
        "\n",
        "print('\\nWord indexes:')\n",
        "print(tfidf.vocabulary_)\n",
        "\n",
        "print('\\n tf-idf values')\n",
        "print(result)\n"
      ]
    },
    {
      "cell_type": "code",
      "execution_count": null,
      "metadata": {
        "id": "7X4QkHQhsugb"
      },
      "outputs": [],
      "source": []
    }
  ],
  "metadata": {
    "colab": {
      "authorship_tag": "ABX9TyPYy79novWq8hXs1WRklvwc",
      "provenance": []
    },
    "kernelspec": {
      "display_name": "base",
      "language": "python",
      "name": "python3"
    },
    "language_info": {
      "codemirror_mode": {
        "name": "ipython",
        "version": 3
      },
      "file_extension": ".py",
      "mimetype": "text/x-python",
      "name": "python",
      "nbconvert_exporter": "python",
      "pygments_lexer": "ipython3",
      "version": "3.9.7"
    },
    "vscode": {
      "interpreter": {
        "hash": "a81f9c8e4d77b662dc413a93f7c2826c99d2f1c3f5bd35735156a034d97bd3d1"
      }
    }
  },
  "nbformat": 4,
  "nbformat_minor": 0
}
